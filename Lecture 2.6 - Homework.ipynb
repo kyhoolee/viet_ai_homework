{
 "cells": [
  {
   "cell_type": "markdown",
   "metadata": {},
   "source": [
    "<center> <h1> Bài tập về nhà: Lecture 2 - Python và Numpy </h1> </center>"
   ]
  },
  {
   "cell_type": "markdown",
   "metadata": {},
   "source": [
    "### Hãy sử dụng Python thuần (không ** import ** bất kỳ package nào khác) để giải quyết các bài tập sau:"
   ]
  },
  {
   "cell_type": "markdown",
   "metadata": {},
   "source": [
    "** Bài 1: ** Viết hàm ** welcome_new_friend() ** nhận vào tên của một bạn học sinh và xuất ra màn hình \"hello <tên>\". Nếu tên của bạn có chữ cái đầu và cuối giống nhau (không phân biệt hoa thường), hãy xuất thêm chuỗi \", you have a special name\" sau chuỗi đầu tiên\n",
    "\n",
    "*Gợi ý*: Sử dụng .lower() để chuyển từ chữ in sang chữ thường, và operator \"+\" để nối chuỗi"
   ]
  },
  {
   "cell_type": "code",
   "execution_count": 35,
   "metadata": {},
   "outputs": [
    {
     "name": "stdout",
     "output_type": "stream",
     "text": [
      "johny bravo\n"
     ]
    }
   ],
   "source": [
    "name = \"Johny BraVo\"\n",
    "new_name = name.lower()\n",
    "print (new_name)"
   ]
  },
  {
   "cell_type": "code",
   "execution_count": 38,
   "metadata": {},
   "outputs": [],
   "source": [
    "def welcome_new_friend(name):\n",
    "    ''' \n",
    "    - Input: tên của bạn học sinh\n",
    "    Xuất ra màn hình câu chào mừng\n",
    "    Ví dụ:\n",
    "    Input: \n",
    "    John\n",
    "    Return: \n",
    "    \"Hello John\"\n",
    "    \n",
    "    Input: \n",
    "    Anna\n",
    "    Output:\n",
    "    \"Hello Anna, you have a special name\"\n",
    "    \n",
    "    '''\n",
    "    \n",
    "    # Init\n",
    "    hello_string = \"\"\n",
    "    \n",
    "    # TODO: code here\n",
    "    \n",
    "    # END ---------------\n",
    "    \n",
    "    \n",
    "    return hello_string"
   ]
  },
  {
   "cell_type": "markdown",
   "metadata": {},
   "source": [
    "** Bài 2: ** Viết hàm ** rectangle_info() ** nhận vào một danh sách a gồm chiều dài và chiều rộng của một hình chữ nhật bất kỳ, trả về một dictionary *rectangle* có 4 keys \"chieu dai\", \"chieu rong\", \"chu vi\", \"dien tich\" tương ứng với các values chiều dài, chiều rộng, chu vi, diện tích của hình chữ nhật đó."
   ]
  },
  {
   "cell_type": "code",
   "execution_count": 54,
   "metadata": {},
   "outputs": [],
   "source": [
    "def  rectangle_info(a):\n",
    "    ''' \n",
    "    - Input: danh sách a (kiểu list) chứa các giá trị chiều dài và chiều rộng (float)\n",
    "    - Output: dictionary s gồm 4 thông tin của hình chữ nhật (chiều dài, chiều rộng, chu vi, diện tích)\n",
    "    Ví dụ:\n",
    "    Input:\n",
    "    [5, 7]\n",
    "    Output:\n",
    "    rectangle = {\"chieu dai\": 7, \"chieu rong\": 5, \"chu vi\": 12, \"dien tich\": 35}\n",
    "    '''\n",
    "    \n",
    "    rectangle = {\"chieu dai\": None, \"chieu rong\": None, \"chu vi\": None, \"dien tich\": None}\n",
    "    # TODO: trong hai giá trị của danh sách a, xác định chiều dài, chiều rộng. Gán vào s\n",
    "    \n",
    "    \n",
    "    # END ---------------\n",
    "    \n",
    "    # TODO: tính chu vi và diện tích. Gán vào s\n",
    "    \n",
    "    # END ---------------\n",
    "    return rectangle"
   ]
  },
  {
   "cell_type": "markdown",
   "metadata": {},
   "source": [
    "** Bài 3: ** Viết hàm ** create_square_dict() ** trả về một dictionary có $n$ keys là các giá trị số nguyên trong đoạn $[1 ; n]$, mỗi key đi với một giá trị value thỏa công thức sau:\n",
    "\n",
    "$$ value = key^2 $$"
   ]
  },
  {
   "cell_type": "code",
   "execution_count": 42,
   "metadata": {},
   "outputs": [],
   "source": [
    "def create_square_dict(n):\n",
    "    ''' \n",
    "    - Input: số lượng key n\n",
    "    - Output: dictionary s sao cho tất cả các cặp key-value thỏa công thức trên\n",
    "    Ví dụ:\n",
    "    Input:\n",
    "        n = 5\n",
    "    Output:\n",
    "        square_dict = {1:1, 2:4, 3:9, 4:16, 5:25}\n",
    "    '''\n",
    "    \n",
    "    square_dict = {}\n",
    "    # TODO: code here\n",
    "    \n",
    "    # END ---------------\n",
    "    return square_dict"
   ]
  },
  {
   "cell_type": "markdown",
   "metadata": {},
   "source": [
    "** Bài 4: ** Viết hàm ** funny_list() ** nhận vào một danh sách a gồm những số nguyên dương. Duyệt toàn bộ danh sách a theo thứ tự từ phần tử đầu tiên đến phần tử cuối cùng. Hàm trả về một danh sách b bao gồm nhiều phần tử dạng chuỗi tuân theo cú pháp: < vị trí - nội dung >. Tùy vào từng giá trị được duyệt ở danh sách a, phần tử của b được tạo bằng cách thực hiện những quy định sau:\n",
    "\n",
    "Vị trí:\n",
    "\n",
    "- Luôn luôn thêm vị trí của phần tử trong mảng theo cú pháp < vị trí - nội dung >, tính từ 0 (gợi ý: dùng **enumerate()**)\n",
    "\n",
    "Nội dung:\n",
    "\n",
    "- Nếu giá trị đang xét là số chẵn: nội dung = \"even\"\n",
    "- Nếu giá trị đang xét là số lẻ: nội dung =  \"odd\"\n",
    "- Nếu giá trị đang xét chia hết cho 3: nội dung =  \"multiple\"\n",
    "\n",
    "Nếu giá trị đang xét chia hết cho 6 và chia hết cho 9: không thêm phần tử cho b, thoát vòng lặp, và trả về b"
   ]
  },
  {
   "cell_type": "markdown",
   "metadata": {},
   "source": [
    "Ví dụ:\n",
    "\n",
    "- Input:\n",
    "\n",
    "a = \\[ 1 , 2 , 3 , 4 , 5 , 18\\]\n",
    "\n",
    "- Output:\n",
    "\n",
    "a = \\[ \"0-odd\" , \"1-even\" , \"2-multiple\" , \"3-even\" , \"4-odd\" \\]"
   ]
  },
  {
   "cell_type": "code",
   "execution_count": 52,
   "metadata": {},
   "outputs": [],
   "source": [
    "def funny_list(a):\n",
    "    ''' \n",
    "    - Input: danh sách a (list) gồm những số nguyên dương (int)\n",
    "    - Output: danh sách b (list) gồm nhiều chuỗi theo quy định <vị trí-nội dung>\n",
    "    '''\n",
    "    \n",
    "    # Init\n",
    "    b = []\n",
    "    \n",
    "    for index, number in enumerate(a):\n",
    "        pass\n",
    "        # TODO: code here:\n",
    "        \n",
    "        \n",
    "        # END -----------------\n",
    "        \n",
    "    return b"
   ]
  },
  {
   "cell_type": "markdown",
   "metadata": {},
   "source": [
    "### Với sự hỗ trợ của tất cả các hàm dựng sẵn trong Numpy, hãy giải quyết các bài tập sau:\n",
    "\n",
    "** Bài 5: ** Viết hàm ** inner_product_two_vec() ** để tính tích vô hướng giữa hai vector a và b. Cần kiểm tra số chiều trước khi thực hiện phép tính, trả về None nếu số chiều không tương thích"
   ]
  },
  {
   "cell_type": "code",
   "execution_count": 11,
   "metadata": {},
   "outputs": [],
   "source": [
    "import numpy as np\n",
    "\n",
    "# (lưu ý: dùng assert để kiểm tra số chiều)\n",
    "def inner_product_two_vec(a, b):\n",
    "    ''' \n",
    "    - Input: Vector a và vector b (kiểu numpy array, dtype == float32)\n",
    "    - Output: Tích vô hướng giữa hai vector a và b, type = float. Hoặc None nếu số chiều 2 vectors không tương thích\n",
    "    Ví dụ:\n",
    "    Input:\n",
    "        a = np.array([1,2,3])\n",
    "        b = np.array([4,5,6])\n",
    "    Output:\n",
    "    c = 32\n",
    "    '''\n",
    "    # Kiểm tra số chiều\n",
    "    try:\n",
    "        assert a.shape == b.shape, \"Oh no, dimensions of a and b mismatch\"\n",
    "    except:\n",
    "        return None\n",
    "    \n",
    "    c = None\n",
    "    # TODO: code here\n",
    "    \n",
    "    \n",
    "    # END ---------------\n",
    "    return c"
   ]
  },
  {
   "cell_type": "markdown",
   "metadata": {},
   "source": [
    "** Bài 6: ** Viết hàm ** dot_xTw() ** nhận vào hai ma trận x và w, trả về giá trị tích $m$ (dot product) theo công thức sau:\n",
    "$$ m = x^Tw $$\n",
    "\n",
    "Cần kiểm tra số chiều để bảo đảm phép tính ** luôn tính được ** trước khi thực hiện phép tính, trả về None nếu số chiều không tương thích."
   ]
  },
  {
   "cell_type": "code",
   "execution_count": 53,
   "metadata": {},
   "outputs": [],
   "source": [
    "import numpy as np\n",
    "\n",
    "# (lưu ý: dùng assert để kiểm tra số chiều)\n",
    "def dot_xTw(a, b):\n",
    "    ''' \n",
    "    - Input: Hai ma trận x và w (kiểu numpy array)\n",
    "    - Output: Ma trận kết quả m của công thức trên (kiểu numpy array)\n",
    "     Ví dụ:\n",
    "    Input:\n",
    "        x = np.array([[1,2],[3,4]])\n",
    "        w = np.array([[7,8],[9,10]])\n",
    "    Output:\n",
    "        m = [[34 38]\n",
    "             [50 56]]\n",
    "    '''\n",
    "    # Kiểm tra số chiều\n",
    "    # TODO: code here\n",
    "    \n",
    "    \n",
    "    # END ---------------\n",
    "    \n",
    "    m = None\n",
    "    \n",
    "    # Thực hiện phép tính\n",
    "    # TODO: code here\n",
    "    \n",
    "    \n",
    "    # END ---------------\n",
    "    return m"
   ]
  },
  {
   "cell_type": "markdown",
   "metadata": {},
   "source": [
    "** Bài 7: ** Viết hàm ** g_xw() ** nhận vào hai ma trận x và w, trả về giá trị $m$ theo công thức sau:\n",
    "$$ m = 2\\times(x^T+w)^T $$\n",
    "\n",
    "Cần kiểm tra số chiều để bảo đảm phép tính ** luôn tính được ** trước khi thực hiện phép tính, trả về None nếu số chiều không tương thích."
   ]
  },
  {
   "cell_type": "code",
   "execution_count": 31,
   "metadata": {},
   "outputs": [],
   "source": [
    "import numpy as np\n",
    "\n",
    "# (lưu ý: dùng assert để kiểm tra số chiều)\n",
    "def g_xw(a, b):\n",
    "    ''' \n",
    "    - Input: Hai ma trận x và w (kiểu numpy array)\n",
    "    - Output: Ma trận kết quả m của công thức trên (kiểu numpy array)\n",
    "     Ví dụ:\n",
    "    Input:\n",
    "        x = np.array([[1,2],[3,4],[-2,6]])\n",
    "        w = np.array([[7,8],[9,10],[-1,3]])\n",
    "    Output:\n",
    "        m = None\n",
    "    '''\n",
    "    # Kiểm tra số chiều\n",
    "    # TODO: code here\n",
    "    \n",
    "    \n",
    "    # END ---------------\n",
    "    \n",
    "    m = None\n",
    "    \n",
    "    # Thực hiện phép tính\n",
    "    # TODO: code here\n",
    "    \n",
    "    \n",
    "    # END ---------------\n",
    "    return m"
   ]
  },
  {
   "cell_type": "markdown",
   "metadata": {},
   "source": [
    "** Bài 8: ** Viết hàm ** check_x_row() ** nhận vào một ma trận có kích thước $n \\times 3$, trả về ma trận b sao cho ma trận b chứa những *dòng đặc biệt* của ma trận a, *dòng đặc biệt* được định nghĩa là dòng có cả 3 giá trị giống nhau.\n",
    "\n",
    "Ví dụ:"
   ]
  },
  {
   "cell_type": "code",
   "execution_count": 29,
   "metadata": {},
   "outputs": [],
   "source": [
    "# Input\n",
    "# a = np.array(\n",
    "#     [[1,2],\n",
    "#      [3,3],\n",
    "#      [7,8],\n",
    "#      [10,10]]\n",
    "#     )\n",
    "\n",
    "# Output:\n",
    "# b = np.array(\n",
    "#      [[3,3],\n",
    "#      [10,10]]\n",
    "#     )"
   ]
  },
  {
   "cell_type": "code",
   "execution_count": 2,
   "metadata": {},
   "outputs": [],
   "source": [
    "import numpy as np\n",
    "def check_x_row(a):\n",
    "    ''' \n",
    "    - Input: Ma trận a (kiểu numpy array)\n",
    "    - Output: Ma trận b chứa những dòng đặc biệt của a (kiểu numpy array)\n",
    "    '''\n",
    "    b = None\n",
    "    # Tìm b\n",
    "    # TODO: code here\n",
    "    \n",
    "    \n",
    "    # END ---------------\n",
    "    return b"
   ]
  },
  {
   "cell_type": "markdown",
   "metadata": {},
   "source": [
    "** Bài 9: **  Viết hàm get_n_max_num() nhận vào một vector a gồm $n$ chiều, trả về vector b chứa n giá trị lớn nhất của vector a.\n",
    "\n",
    "*Gợi ý:* Sử dụng hàm **np.sort()** để sắp xếp các giá trị của vector\n",
    "\n",
    "** Bài 10: ** get_n_max_num() sử dụng np.sort() có thể chậm khi giá trị n lớn, hãy tìm hiểu hàm **np.argpartition()** để có thể giải quyết bài 9 nhanh hơn\n",
    "\n",
    "*Gợi ý:* Dùng hàm * time() * trong thư viện ** time ** để đo thời gian thực thi của một lệnh. Ví dụ:"
   ]
  },
  {
   "cell_type": "code",
   "execution_count": 3,
   "metadata": {},
   "outputs": [
    {
     "name": "stdout",
     "output_type": "stream",
     "text": [
      "Time to create a 10000x10000 matrix of zeros (seconds): \n",
      "0.001995086669921875\n"
     ]
    }
   ],
   "source": [
    "import time\n",
    "import numpy as np\n",
    "\n",
    "start = time.time()\n",
    "a = np.zeros((10000, 10000))\n",
    "end = time.time()\n",
    "\n",
    "total_time = end - start\n",
    "\n",
    "print (\"Time to create a 10000x10000 matrix of zeros (seconds): \")\n",
    "print (total_time)"
   ]
  },
  {
   "cell_type": "code",
   "execution_count": 4,
   "metadata": {},
   "outputs": [],
   "source": [
    "import numpy as np\n",
    "def get_n_max_num(a, n):\n",
    "    ''' \n",
    "    - Input: Vector a (kiểu numpy array) và giá trị n (int)\n",
    "    - Output: Vector b chứa n giá trị lớn nhất của vector a (kiểu numpy array)\n",
    "    '''\n",
    "    b = None\n",
    "    # Tìm b\n",
    "    # TODO: code here\n",
    "    \n",
    "    \n",
    "    # END ---------------\n",
    "    return b"
   ]
  },
  {
   "cell_type": "markdown",
   "metadata": {},
   "source": [
    "___________________________________________________________"
   ]
  }
 ],
 "metadata": {
  "kernelspec": {
   "display_name": "Python 3",
   "language": "python",
   "name": "python3"
  },
  "language_info": {
   "codemirror_mode": {
    "name": "ipython",
    "version": 3
   },
   "file_extension": ".py",
   "mimetype": "text/x-python",
   "name": "python",
   "nbconvert_exporter": "python",
   "pygments_lexer": "ipython3",
   "version": "3.6.4"
  }
 },
 "nbformat": 4,
 "nbformat_minor": 2
}
